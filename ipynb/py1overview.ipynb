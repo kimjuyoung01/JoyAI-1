{
 "cells": [
  {
   "cell_type": "markdown",
   "metadata": {},
   "source": [
    "# Welcome to \"CrushPython\"\n",
    "\n",
    "The fear of the LORD is the beginning of knowledge, but fools despise wisdom and discipline. Proverbs 1:7\n",
    "\n",
    "-------"
   ]
  },
  {
   "cell_type": "markdown",
   "metadata": {},
   "source": [
    "# Greetings!\n",
    "May I personally extend a warm welcome to you who are willing to come to this class. I hope that we can make this course of time will be memorable and enjoyable with a new spirit of learning together. \n",
    "\n",
    "This is a short course on Python for students who have some experience of programming in a programming language other than Python. The course assumes that you know no Python whatsoever. Also, those people who already have considerable programming experience in several different programming languages are likely to be bored, and would be better off just working through the notes in their own time, or looking at one of the many on-line Python tutorials.  \n",
    "\n",
    "__Python is named after Monty Python’s Flying Circus, not the constricting snake.__\n"
   ]
  },
  {
   "cell_type": "markdown",
   "metadata": {},
   "source": [
    "## Programming expectations\n",
    "\n",
    "All the assignments and labs for this class will use Python and, for the most part, the browser-based IPython notebook format you are currently viewing as well as a command-line mode and Python Tools for Visual Studio when needed. Knowledge of Python is not a prerequisite for this course, **provided you are comfortable learning on your own as needed**. While we have strived to make the programming component of this course straightforward, we will not devote much time to teaching Python syntax itself. Basically, you should feel comfortable with:\n",
    "\n",
    "* How to look up Python syntax on Google and StackOverflow.\n",
    "* Basic programming concepts like functions, loops, arrays, dictionaries, strings, and if statements.\n",
    "* How to learn new libraries by reading documentation.\n",
    "* Asking questions on StackOverflow or Piazza.\n",
    "\n",
    "There are many online tutorials to introduce you to [Python training courses](https://www.enthought.com/services/training/) and [scientific Python programming](https://github.com/jrjohansson/scientific-python-lectures).\n"
   ]
  },
  {
   "cell_type": "markdown",
   "metadata": {},
   "source": [
    "# Introduction\n",
    "\n",
    "---------\n",
    "\n",
    "# Python - Easy to learn, but powerful\n",
    "\n",
    "  - Readability\n",
    "  - Simplicity\n",
    "  - Extensibility"
   ]
  },
  {
   "cell_type": "markdown",
   "metadata": {},
   "source": [
    "## Getting Python\n",
    "\n",
    "You will be using Python 3.x or latest (not 2.x) throughout the course, including many popular 3rd party Python libraries or modules. There are many ways of installing Python. \n",
    "\n",
    "For the program development environment, you may use any kind of IDE. Personally, I have reviewed or used a few IDE’s such as Anaconda, Canopy, Eclipse, and PyCharm. At this point I ended up using [Anaconda](http://continuum.io/downloads) and 64 bit Python executable since my computer is 64-bit system. It comes with an easy-to-install bundle of Python and 3rd party libraries.  \n",
    "\n",
    "In this first class, we will be using a variety of data types of Python and understand the basic concepts of the language to ensure everything goes smoothly moving forward, While some of this will likely be dull, doing it now will enable us to do more exciting work in the days that follow without getting bogged down in further software development. It is essential that you complete it timely. \n"
   ]
  },
  {
   "cell_type": "markdown",
   "metadata": {},
   "source": [
    "## Python Installation Guide (if you don't use Anaconda)\n",
    "\n",
    "- Refer to a web site: www.py4e.com\n",
    "\n",
    "- https://www.py4e.com/lessons/install"
   ]
  },
  {
   "cell_type": "markdown",
   "metadata": {},
   "source": [
    "## MOOC & Textbook Available (in English and 한글 script)\n",
    "\n",
    "We are going to use the one of the best Python course available through www.coursera.org or available for free at www.py4e.com.\n",
    "\n",
    "The book \"Python for Everybody\" by Charles R. Severance available for free in many different forms including html and pdf. \n",
    "- https://www.py4e.com/book\n",
    "- over 200 pages long.\n",
    "\n",
    "Coursera offers a week for free, and $49 per month when you subscribe it.\n",
    "- You may earn a Coursera Certificate for this course\n",
    "\n",
    "\"Python for Everybody\" is designed to introduce students to programming and software development through the lens of exploring data.\n",
    "This course consists of five parts as shown below:\n",
    "\n",
    "1. Programming for Everybody (Getting Started with Python)\n",
    "2. Python Data Structures\n",
    "3. Using Python to Access Web Data\n",
    "4. Using Databases with Python\n",
    "5. Capstone: Retrieving, Processing, and Visualizing Data with Python\n",
    "\n",
    "In this specialization, I expect you are to finish 4 out of 5 parts.\n",
    "I hope that you take this course along with a Certification specialized in Python.\n",
    "\n"
   ]
  },
  {
   "cell_type": "markdown",
   "metadata": {},
   "source": [
    "## 파이썬 연습 플랫폼 - 파이썬 300문제 인강(한국어)\n",
    "\n",
    "- https://wikidocs.net/book/922 \n",
    "- 300문제 중에서 240번까지 주피터 노트북에 풀어보기\n",
    "- 오늘 강의(Overview)가 지겨운 사람은  파이썬300문제를 할 필요가 없음.\n",
    "- 오늘 강의(Overview)가 무슨 말인지 알아듣지 못하는 사람은 300문제집에 240개를 w주피터 노트북에 풀어서 제출하면 됩니다. \n",
    "- 모인활 python 강의 진도에 맞추어 매주 어느 문제들을 풀어야하는지 알려드릴 것입니다.   \n",
    "- 숙제는 아니지만, 제출하는 학생들에게는 __Extra Credit__를 지급할 예정입니다.\n",
    "- 해당 파이썬 300제를 풀음으로써 매주의 python 주제에 대해 복습할 수 있으며, 이는 기말고사, 학기 말 프로젝트에 유익할 것입니다."
   ]
  },
  {
   "cell_type": "markdown",
   "metadata": {},
   "source": [
    "## Python or IPython?\n",
    "IPython is short for __I__nteractive __Python__. It does all things Python does and more. It provides a rich architecture for interactive computing with:\n",
    "- A browser-based notebook with support for code, text, mathematical expressions, inline plots and other rich media.\n",
    "- Support for interactive data visualization and use of GUI toolkits.\n",
    "- Flexible, embeddable interpreters to load into your own projects.\n",
    "- Easy to use, high performance tools for parallel computing.\n",
    "Once again all Python scripts presented here should work in IPython seamlessly, but also provides you with more functionalities and rich set of tools. "
   ]
  },
  {
   "cell_type": "markdown",
   "metadata": {},
   "source": [
    "# 1. Overview\n",
    "\n",
    "---------\n",
    "\n",
    "In this Jupyter Notebook, we will cover a wide variety of topics about the Python language to give you a broad overview of the data structures it offers, some use cases for them and the kinds of tasks they can be used for. \n",
    "\n",
    "__NOTE__: It isn't expected for new comers to be able to follow all the details presented here. This fast-paced overview will be followed with a slower in-depth coverage of all these topics.\n",
    "\n",
    "__NOTE__: The following materials have been collected from the numerous sources including my own and my students over the years of teaching and experiences of programming. Please help me to keep this tutorial up-to-date by reporting any issues or questions. Send any comments or criticisms to `idebtor@gmail.com`. Your assistances and comments will be appreciated."
   ]
  },
  {
   "cell_type": "markdown",
   "metadata": {},
   "source": [
    "## Two kinds of cell\n",
    "\n",
    "Jupyter Notebook consists of a series of so-called cells. There are two types of cells that contains either code or document. Cells that contains code is called __code cell__, whereas cell that contains document is called __markdown cell__. \n",
    "\n",
    "By default, the notebook creates a code cell. Let's explore working with code cells. You may convert a code cell into a markdown cell by typing a short-cut `<Esc> m`, `<Esc> y` vice versa. \n",
    "\n",
    "1. __Code cells__ - contains python codes and ipython magic.\n",
    "1. __Markdown cells__ - Contains documents written in Markdown which is a lightweight markup language with plain-text-formatting syntax. "
   ]
  },
  {
   "cell_type": "markdown",
   "metadata": {},
   "source": [
    "## Two kinds of mode\n",
    "\n",
    "1. __Command mode__ - Tapping `<Esc>` let the cell into a __Command Mode__\n",
    "1. __Edit mode__ - Tapping `<Enter>` let the cell into __Edit Mode__."
   ]
  },
  {
   "cell_type": "markdown",
   "metadata": {},
   "source": [
    "### Cell menu\n",
    "The \"Cell\" menu has a number of menu items for running code in different ways. These includes:\n",
    "\n",
    "- Run and Select Below\n",
    "- Run and Insert Below\n",
    "- Run All\n",
    "- Run All Above\n",
    "- Run All Below\n",
    "\n",
    "----------"
   ]
  },
  {
   "cell_type": "markdown",
   "metadata": {},
   "source": [
    "## Running Cells\n",
    "Jupyter notebook cell is capable of running code in a wide range of languages. However, the default kernel in Jupyter notebook runs Python code. If the cell is a markdown cell, it just randers into webpage. \n",
    "\n",
    "Run a cell using ```<Shift-Enter>``` or \"Run Cell\" button in the toolbar above:\n",
    "\n",
    "There are two other keyboard shortcuts for running code:\n",
    "\n",
    "- `Shift + Enter` runs the current cell and move to the next cell. \n",
    "- `Ctrl+Enter` run the current cell and enters command mode.\n",
    "- `Alt+Enter` runs the current cell and inserts a new one below."
   ]
  },
  {
   "cell_type": "markdown",
   "metadata": {},
   "source": [
    "\n",
    "# 2. Run OS or magic commands in code cell\n",
    "\n",
    "IPython uses ! to run shell commands. Jupyter notebook provides shell-like magic functions as well. The followind commands available are shown below: \n",
    "\n",
    "```\n",
    "%cd, %cat, %cp, %env, %ls, %man, %mkdir, %more, %mv, %pwd, %rm, %rmdir\n",
    "```\n",
    "\n",
    "These commands can be used without the `%` sign if automagic is on. This makes it so that you can almost treat the IPython prompt as if it's a normal shell:\n",
    "\n",
    "- Use `%` to run the OS command in code cell. \n",
    "- You even omit `%`since, automagic option is on by default. \n",
    "- __Some developers__ prefer to using `!` instead of `%` since IPython uses `!` for a long time."
   ]
  },
  {
   "cell_type": "markdown",
   "metadata": {},
   "source": [
    "#### 1. Print the current folder name (present working directory).\n",
    "- Try `!pwd` with % and without %, or with !.\n",
    "- `pwd` means `present working directory` or `print working directory`.\n",
    "- For example: `!pwd`"
   ]
  },
  {
   "cell_type": "code",
   "execution_count": 2,
   "metadata": {},
   "outputs": [
    {
     "data": {
      "text/plain": [
       "'C:\\\\GitHub\\\\JoyAI\\\\ipynb'"
      ]
     },
     "execution_count": 2,
     "metadata": {},
     "output_type": "execute_result"
    }
   ],
   "source": [
    "%pwd"
   ]
  },
  {
   "cell_type": "markdown",
   "metadata": {},
   "source": [
    "#### 2. Print the list of files in the current folder.\n",
    "- Try it with `!ls` and `!dir`\n",
    "- For example `!dir`"
   ]
  },
  {
   "cell_type": "code",
   "execution_count": 3,
   "metadata": {},
   "outputs": [
    {
     "name": "stdout",
     "output_type": "stream",
     "text": [
      " C 드라이브의 볼륨에는 이름이 없습니다.\n",
      " 볼륨 일련 번호: 1ACD-57FC\n",
      "\n",
      " C:\\GitHub\\JoyAI\\ipynb 디렉터리\n",
      "\n",
      "2021-03-10  오전 10:15    <DIR>          .\n",
      "2021-03-10  오전 10:15    <DIR>          ..\n",
      "2021-03-10  오전 10:15    <DIR>          .ipynb_checkpoints\n",
      "2021-03-09  오후 09:05            10,252 ai1-1gettingstarted.ipynb\n",
      "2021-03-09  오후 09:05            17,054 ai1-2jupyternotebook.ipynb\n",
      "2021-03-09  오후 09:05             9,409 ai1-3markdown.ipynb\n",
      "2021-03-09  오후 09:05            38,965 py1overview.ipynb\n",
      "2021-03-09  오후 09:05                78 _start_ipynb.bat\n",
      "2021-03-09  오후 09:05    <DIR>          __pycache__\n",
      "               5개 파일              75,758 바이트\n",
      "               4개 디렉터리  173,369,475,072 바이트 남음\n"
     ]
    }
   ],
   "source": [
    "!dir"
   ]
  },
  {
   "cell_type": "markdown",
   "metadata": {},
   "source": [
    "#### 3. Print the contents of a file. \n",
    "- Try it with `!cat <filename>` and `!type <filename>`\n",
    "- For example, `!type _start_ipynb.bat`"
   ]
  },
  {
   "cell_type": "code",
   "execution_count": 9,
   "metadata": {},
   "outputs": [
    {
     "name": "stdout",
     "output_type": "stream",
     "text": [
      "rem -- start jupyter notebook here .bat file \n",
      "pwd\n",
      "jupyter notebook\n",
      "pause \n"
     ]
    }
   ],
   "source": [
    "!type _start_ipynb.bat"
   ]
  },
  {
   "cell_type": "markdown",
   "metadata": {},
   "source": [
    "----------"
   ]
  },
  {
   "cell_type": "markdown",
   "metadata": {},
   "source": [
    "\n",
    "# 3. Run Python code in code cell\n",
    "\n",
    "## Arithmetic\n",
    "Let's start simple with some arithmetic..."
   ]
  },
  {
   "cell_type": "markdown",
   "metadata": {},
   "source": [
    "#### Example 1: Add two integer numbers. "
   ]
  },
  {
   "cell_type": "code",
   "execution_count": 16,
   "metadata": {},
   "outputs": [
    {
     "data": {
      "text/plain": [
       "3"
      ]
     },
     "execution_count": 16,
     "metadata": {},
     "output_type": "execute_result"
    }
   ],
   "source": [
    "1+2"
   ]
  },
  {
   "cell_type": "markdown",
   "metadata": {},
   "source": [
    "#### Example 2: Add two floating pointer numbers."
   ]
  },
  {
   "cell_type": "code",
   "execution_count": 18,
   "metadata": {},
   "outputs": [
    {
     "data": {
      "text/plain": [
       "4.2"
      ]
     },
     "execution_count": 18,
     "metadata": {},
     "output_type": "execute_result"
    }
   ],
   "source": [
    "1.2+3"
   ]
  },
  {
   "cell_type": "markdown",
   "metadata": {},
   "source": [
    "#### Example 3: If you add an integer to a decimal, you will get a floating point number."
   ]
  },
  {
   "cell_type": "code",
   "execution_count": null,
   "metadata": {},
   "outputs": [],
   "source": []
  },
  {
   "cell_type": "markdown",
   "metadata": {},
   "source": [
    "#### Example 4: How about computing `2**8, 2**16, 2**32`?"
   ]
  },
  {
   "cell_type": "code",
   "execution_count": 19,
   "metadata": {},
   "outputs": [
    {
     "data": {
      "text/plain": [
       "114813069527425452423283320117768198402231770208869520047764273682576626139237031385665948631650626991844596463898746277344711896086305533142593135616665318539129989145312280000688779148240044871428926990063486244781615463646388363947317026040466353970904996558162398808944629605623311649536164221970332681344168908984458505602379484807914058900934776500429002716706625830522008132236281291761267883317206598995396418127021779858404042159853183251540889433902091920554957783589672039160081957216630582755380425583726015528348786419432054508915275783882625175435528800822842770817965453762184851149029376"
      ]
     },
     "execution_count": 19,
     "metadata": {},
     "output_type": "execute_result"
    }
   ],
   "source": [
    "2**2000"
   ]
  },
  {
   "cell_type": "markdown",
   "metadata": {},
   "source": [
    "#### Example 5: True division vs. Floor division\n",
    "- __Note__: Python 2.x vs Python 3.x - They are not compatable "
   ]
  },
  {
   "cell_type": "code",
   "execution_count": 20,
   "metadata": {},
   "outputs": [
    {
     "data": {
      "text/plain": [
       "0.4"
      ]
     },
     "execution_count": 20,
     "metadata": {},
     "output_type": "execute_result"
    }
   ],
   "source": [
    "2/5"
   ]
  },
  {
   "cell_type": "code",
   "execution_count": 23,
   "metadata": {},
   "outputs": [
    {
     "data": {
      "text/plain": [
       "2"
      ]
     },
     "execution_count": 23,
     "metadata": {},
     "output_type": "execute_result"
    }
   ],
   "source": [
    "5//2"
   ]
  },
  {
   "cell_type": "markdown",
   "metadata": {},
   "source": [
    "## Variables (or names)\n",
    "You can save your value into a name called __'variable(변수)'__."
   ]
  },
  {
   "cell_type": "code",
   "execution_count": 26,
   "metadata": {},
   "outputs": [
    {
     "name": "stdout",
     "output_type": "stream",
     "text": [
      "50\n",
      "15\n",
      "5\n"
     ]
    }
   ],
   "source": [
    "# Save the values 10 and 5 in the variables 'a' and 'b', respectively. \n",
    "# print a, b\n",
    "\n",
    "a=3 \n",
    "b = 5\n",
    "a = 10\n",
    "print(a * b)\n",
    "print(a + b)\n",
    "print(a - b)"
   ]
  },
  {
   "cell_type": "code",
   "execution_count": 30,
   "metadata": {},
   "outputs": [],
   "source": [
    "# Now you can do some math with two variables. \n",
    "# Add two numbers and save the result to another variable 'c'.\n",
    "# Subtract two numbers (a - b) and save the result to another variable 'd'.\n",
    "# print the results c and d\n",
    "\n",
    "d=0"
   ]
  },
  {
   "cell_type": "markdown",
   "metadata": {},
   "source": [
    "## Getting an input from the user and save it \n",
    "\n",
    "The varable 'name' stores a string value, not numeric value.\n",
    "- use `input()` function to get an user's input."
   ]
  },
  {
   "cell_type": "markdown",
   "metadata": {},
   "source": [
    "Ask a name (`What is your name? `) and save it in a variable called `name`. Then, you print `Hello ` and the name entered as shown below:\n",
    "\n",
    "For example, \n",
    "```\n",
    "What is your name?\n",
    "John\n",
    "Hello John!\n",
    "```"
   ]
  },
  {
   "cell_type": "code",
   "execution_count": 32,
   "metadata": {
    "scrolled": true
   },
   "outputs": [
    {
     "name": "stdout",
     "output_type": "stream",
     "text": [
      "What is your name?Kim\n",
      "Kim\n"
     ]
    }
   ],
   "source": [
    "name = input('What is your name?')\n",
    "print(name)"
   ]
  },
  {
   "cell_type": "markdown",
   "metadata": {},
   "source": [
    "## List\n",
    "Python makes it easy to create lists, which can contain any kind of object. We can index these, concatenate them, and find the length, just as we can with strings. For more examples, refter to [Python Tutorials](https://docs.python.org/3/tutorial/datastructures.html?highlight=list%20comprehension#more-on-lists)\n",
    "\n",
    "#### Example 1. Create two lists, one with raibow colors and the other with a few prime numbers:"
   ]
  },
  {
   "cell_type": "code",
   "execution_count": 34,
   "metadata": {},
   "outputs": [],
   "source": [
    "colors = ['red', 'orange', 'yellow', 'green', 'blue', 'indigo', 'violet']\n",
    "primes = [2, 3, 5, 7, 11, 13]"
   ]
  },
  {
   "cell_type": "markdown",
   "metadata": {},
   "source": [
    "#### Example 2. Make a new list called `mixed` by adding two lists ."
   ]
  },
  {
   "cell_type": "code",
   "execution_count": 36,
   "metadata": {
    "scrolled": true
   },
   "outputs": [
    {
     "name": "stdout",
     "output_type": "stream",
     "text": [
      "['red', 'orange', 'yellow', 'green', 'blue', 'indigo', 'violet', 2, 3, 5, 7, 11, 13]\n"
     ]
    }
   ],
   "source": [
    "mixed=colors + primes\n",
    "print(mixed)"
   ]
  },
  {
   "cell_type": "markdown",
   "metadata": {},
   "source": [
    "#### Example 3: How many elements are in the `mixed` list? \n",
    "- Use `len()` function. \n",
    "- The most built-in function returns a value or `None`. "
   ]
  },
  {
   "cell_type": "code",
   "execution_count": 39,
   "metadata": {},
   "outputs": [
    {
     "name": "stdout",
     "output_type": "stream",
     "text": [
      "13\n"
     ]
    }
   ],
   "source": [
    "a = len(mixed)\n",
    "print(a)"
   ]
  },
  {
   "cell_type": "markdown",
   "metadata": {},
   "source": [
    "#### Exmaple 4. What are the first and last elements in the `mixed`?"
   ]
  },
  {
   "cell_type": "code",
   "execution_count": 41,
   "metadata": {},
   "outputs": [
    {
     "data": {
      "text/plain": [
       "'red'"
      ]
     },
     "execution_count": 41,
     "metadata": {},
     "output_type": "execute_result"
    }
   ],
   "source": [
    "mixed[0]"
   ]
  },
  {
   "cell_type": "code",
   "execution_count": 45,
   "metadata": {},
   "outputs": [
    {
     "data": {
      "text/plain": [
       "3"
      ]
     },
     "execution_count": 45,
     "metadata": {},
     "output_type": "execute_result"
    }
   ],
   "source": [
    "mixed[-5]"
   ]
  },
  {
   "cell_type": "markdown",
   "metadata": {},
   "source": [
    "#### Exmaple 5. Append the next prime number (17) at the end of the `mixed`."
   ]
  },
  {
   "cell_type": "code",
   "execution_count": 46,
   "metadata": {},
   "outputs": [
    {
     "name": "stdout",
     "output_type": "stream",
     "text": [
      "['red', 'orange', 'yellow', 'green', 'blue', 'indigo', 'violet', 2, 3, 5, 7, 11, 13, 17]\n"
     ]
    }
   ],
   "source": [
    "mixed.append(17)\n",
    "print(mixed)"
   ]
  },
  {
   "cell_type": "markdown",
   "metadata": {},
   "source": [
    "#### Example 6: Sort the list.\n",
    "- Use sort() method."
   ]
  },
  {
   "cell_type": "code",
   "execution_count": 49,
   "metadata": {},
   "outputs": [
    {
     "data": {
      "text/plain": [
       "['blue', 'green', 'indigo', 'orange', 'red', 'violet', 'yellow']"
      ]
     },
     "execution_count": 49,
     "metadata": {},
     "output_type": "execute_result"
    }
   ],
   "source": [
    "colors.sort()\n",
    "colors"
   ]
  },
  {
   "cell_type": "markdown",
   "metadata": {},
   "source": [
    "- Reading error messages is a good habit to have to your coding skill. Accept them joyfully.\n",
    "- help(list)"
   ]
  },
  {
   "cell_type": "code",
   "execution_count": 50,
   "metadata": {},
   "outputs": [
    {
     "name": "stdout",
     "output_type": "stream",
     "text": [
      "Help on class list in module builtins:\n",
      "\n",
      "class list(object)\n",
      " |  list(iterable=(), /)\n",
      " |  \n",
      " |  Built-in mutable sequence.\n",
      " |  \n",
      " |  If no argument is given, the constructor creates a new empty list.\n",
      " |  The argument must be an iterable if specified.\n",
      " |  \n",
      " |  Methods defined here:\n",
      " |  \n",
      " |  __add__(self, value, /)\n",
      " |      Return self+value.\n",
      " |  \n",
      " |  __contains__(self, key, /)\n",
      " |      Return key in self.\n",
      " |  \n",
      " |  __delitem__(self, key, /)\n",
      " |      Delete self[key].\n",
      " |  \n",
      " |  __eq__(self, value, /)\n",
      " |      Return self==value.\n",
      " |  \n",
      " |  __ge__(self, value, /)\n",
      " |      Return self>=value.\n",
      " |  \n",
      " |  __getattribute__(self, name, /)\n",
      " |      Return getattr(self, name).\n",
      " |  \n",
      " |  __getitem__(...)\n",
      " |      x.__getitem__(y) <==> x[y]\n",
      " |  \n",
      " |  __gt__(self, value, /)\n",
      " |      Return self>value.\n",
      " |  \n",
      " |  __iadd__(self, value, /)\n",
      " |      Implement self+=value.\n",
      " |  \n",
      " |  __imul__(self, value, /)\n",
      " |      Implement self*=value.\n",
      " |  \n",
      " |  __init__(self, /, *args, **kwargs)\n",
      " |      Initialize self.  See help(type(self)) for accurate signature.\n",
      " |  \n",
      " |  __iter__(self, /)\n",
      " |      Implement iter(self).\n",
      " |  \n",
      " |  __le__(self, value, /)\n",
      " |      Return self<=value.\n",
      " |  \n",
      " |  __len__(self, /)\n",
      " |      Return len(self).\n",
      " |  \n",
      " |  __lt__(self, value, /)\n",
      " |      Return self<value.\n",
      " |  \n",
      " |  __mul__(self, value, /)\n",
      " |      Return self*value.\n",
      " |  \n",
      " |  __ne__(self, value, /)\n",
      " |      Return self!=value.\n",
      " |  \n",
      " |  __repr__(self, /)\n",
      " |      Return repr(self).\n",
      " |  \n",
      " |  __reversed__(self, /)\n",
      " |      Return a reverse iterator over the list.\n",
      " |  \n",
      " |  __rmul__(self, value, /)\n",
      " |      Return value*self.\n",
      " |  \n",
      " |  __setitem__(self, key, value, /)\n",
      " |      Set self[key] to value.\n",
      " |  \n",
      " |  __sizeof__(self, /)\n",
      " |      Return the size of the list in memory, in bytes.\n",
      " |  \n",
      " |  append(self, object, /)\n",
      " |      Append object to the end of the list.\n",
      " |  \n",
      " |  clear(self, /)\n",
      " |      Remove all items from list.\n",
      " |  \n",
      " |  copy(self, /)\n",
      " |      Return a shallow copy of the list.\n",
      " |  \n",
      " |  count(self, value, /)\n",
      " |      Return number of occurrences of value.\n",
      " |  \n",
      " |  extend(self, iterable, /)\n",
      " |      Extend list by appending elements from the iterable.\n",
      " |  \n",
      " |  index(self, value, start=0, stop=9223372036854775807, /)\n",
      " |      Return first index of value.\n",
      " |      \n",
      " |      Raises ValueError if the value is not present.\n",
      " |  \n",
      " |  insert(self, index, object, /)\n",
      " |      Insert object before index.\n",
      " |  \n",
      " |  pop(self, index=-1, /)\n",
      " |      Remove and return item at index (default last).\n",
      " |      \n",
      " |      Raises IndexError if list is empty or index is out of range.\n",
      " |  \n",
      " |  remove(self, value, /)\n",
      " |      Remove first occurrence of value.\n",
      " |      \n",
      " |      Raises ValueError if the value is not present.\n",
      " |  \n",
      " |  reverse(self, /)\n",
      " |      Reverse *IN PLACE*.\n",
      " |  \n",
      " |  sort(self, /, *, key=None, reverse=False)\n",
      " |      Sort the list in ascending order and return None.\n",
      " |      \n",
      " |      The sort is in-place (i.e. the list itself is modified) and stable (i.e. the\n",
      " |      order of two equal elements is maintained).\n",
      " |      \n",
      " |      If a key function is given, apply it once to each list item and sort them,\n",
      " |      ascending or descending, according to their function values.\n",
      " |      \n",
      " |      The reverse flag can be set to sort in descending order.\n",
      " |  \n",
      " |  ----------------------------------------------------------------------\n",
      " |  Static methods defined here:\n",
      " |  \n",
      " |  __new__(*args, **kwargs) from builtins.type\n",
      " |      Create and return a new object.  See help(type) for accurate signature.\n",
      " |  \n",
      " |  ----------------------------------------------------------------------\n",
      " |  Data and other attributes defined here:\n",
      " |  \n",
      " |  __hash__ = None\n",
      "\n"
     ]
    }
   ],
   "source": [
    "help(list)"
   ]
  },
  {
   "cell_type": "code",
   "execution_count": null,
   "metadata": {},
   "outputs": [],
   "source": [
    "colors.sort()\n",
    "print(colors)"
   ]
  },
  {
   "cell_type": "markdown",
   "metadata": {},
   "source": [
    "## Set\n",
    "Python also provides the __set__ data structure, which can be created using curly brackets.\n",
    "- Set is a collection of unique objects. No duplicate are allowed."
   ]
  },
  {
   "cell_type": "code",
   "execution_count": 53,
   "metadata": {},
   "outputs": [
    {
     "data": {
      "text/plain": [
       "{0, 1, 2, 3, 4}"
      ]
     },
     "execution_count": 53,
     "metadata": {},
     "output_type": "execute_result"
    }
   ],
   "source": [
    "a = {0, 1, 2, 3, 4}\n",
    "a"
   ]
  },
  {
   "cell_type": "markdown",
   "metadata": {},
   "source": [
    "#### Example 1.  Add an element such as 0 or -1 in the set `a`. Make an observation. "
   ]
  },
  {
   "cell_type": "code",
   "execution_count": 55,
   "metadata": {},
   "outputs": [
    {
     "data": {
      "text/plain": [
       "{-1, 0, 1, 2, 3, 4}"
      ]
     },
     "execution_count": 55,
     "metadata": {},
     "output_type": "execute_result"
    }
   ],
   "source": [
    "a.add(-1)\n",
    "a.add(0)\n",
    "a"
   ]
  },
  {
   "cell_type": "markdown",
   "metadata": {},
   "source": [
    "#### Example 2. Make a new set `b` such that it has the some common elements in the set `a`. "
   ]
  },
  {
   "cell_type": "code",
   "execution_count": 56,
   "metadata": {},
   "outputs": [
    {
     "data": {
      "text/plain": [
       "{2, 3, 4, 5, 6}"
      ]
     },
     "execution_count": 56,
     "metadata": {},
     "output_type": "execute_result"
    }
   ],
   "source": [
    "b = {2, 3, 4, 5, 6}\n",
    "b"
   ]
  },
  {
   "cell_type": "markdown",
   "metadata": {},
   "source": [
    "#### Example 3. Intersection Operation "
   ]
  },
  {
   "cell_type": "code",
   "execution_count": 57,
   "metadata": {},
   "outputs": [
    {
     "data": {
      "text/plain": [
       "{2, 3, 4}"
      ]
     },
     "execution_count": 57,
     "metadata": {},
     "output_type": "execute_result"
    }
   ],
   "source": [
    "a & b"
   ]
  },
  {
   "cell_type": "markdown",
   "metadata": {},
   "source": [
    "#### Example 4. Union Operation "
   ]
  },
  {
   "cell_type": "code",
   "execution_count": 59,
   "metadata": {},
   "outputs": [
    {
     "data": {
      "text/plain": [
       "{-1, 0, 1, 2, 3, 4, 5, 6}"
      ]
     },
     "execution_count": 59,
     "metadata": {},
     "output_type": "execute_result"
    }
   ],
   "source": [
    "a |b"
   ]
  },
  {
   "cell_type": "markdown",
   "metadata": {},
   "source": [
    "## Reading a web page\n"
   ]
  },
  {
   "cell_type": "code",
   "execution_count": 60,
   "metadata": {},
   "outputs": [
    {
     "data": {
      "text/plain": [
       "True"
      ]
     },
     "execution_count": 60,
     "metadata": {},
     "output_type": "execute_result"
    }
   ],
   "source": [
    "import requests \n",
    "response = requests.get('http://www.handong.edu') \n",
    "response.ok"
   ]
  },
  {
   "cell_type": "markdown",
   "metadata": {},
   "source": [
    "Display the first 1000 characters from the response. Use `response.text[500]`"
   ]
  },
  {
   "cell_type": "code",
   "execution_count": 62,
   "metadata": {},
   "outputs": [
    {
     "data": {
      "text/plain": [
       "'\\r\\n \\r\\n\\r\\n\\r\\n\\r\\n\\r\\n\\r\\n\\r\\n\\r\\n\\r\\n\\r\\n\\r\\n\\r\\n\\r\\n\\r\\n \\r\\n\\r\\n\\r\\n<!DOCTYPE html PUBLIC \"-//W3C//DTD HTML 4.01 Transitional//EN\" \"http://www.w3.org/TR/html4/loose.dtd\">\\r\\n<html lang=\"ko\">\\r\\n\\t<head>\\r\\n\\t\\t<meta http-equiv=\"Content-Type\" content=\"text/html; charset=UTF-8\">\\r\\n\\t\\t<meta http-equiv=\"X-UA-Compatible\" content=\"IE=Edge\">\\r\\n\\t\\t<meta name=\"viewport\" content=\"width=device-width, initial-scale=1.0, maximum-scale=1.0, user-scalable=no\"/>\\r\\n\\t\\t<title>한동대학교</title>\\r\\n\\t\\t<link rel=\"shortcut icon\" href=\"/site/handong/res/img/favicon.ico\">\\r\\n\\t\\t<link rel=\"stylesheet\" type=\"text/css\" href=\"/site/handong/res/css/main.css\" />\\r\\n\\t\\t<link rel=\"stylesheet\" type=\"text/css\" href=\"/res/js/fancybox/2.1.5/jquery.fancybox.css\" />\\r\\n\\t\\t<link rel=\"stylesheet\" type=\"text/css\" href=\"/res/js/mCustomScrollbar/3.0.6/mCustomScrollbar.css\"  />\\r\\n\\t\\t<link rel=\"stylesheet\" type=\"text/css\" href=\"/res/js/slick/1.5.7/slick.css\"  />\\r\\n\\t\\t<script type=\"text/javascript\" src=\"/res/js/jquery-1.8.3.js\"></script>\\r\\n\\t\\t<script type=\"text/javascript\" src=\"/res/js/slick/1.5.'"
      ]
     },
     "execution_count": 62,
     "metadata": {},
     "output_type": "execute_result"
    }
   ],
   "source": [
    "response.text[:1000]"
   ]
  },
  {
   "cell_type": "markdown",
   "metadata": {},
   "source": [
    "## Read a remote file and process the text"
   ]
  },
  {
   "cell_type": "code",
   "execution_count": 64,
   "metadata": {
    "scrolled": true
   },
   "outputs": [
    {
     "ename": "HTTPError",
     "evalue": "HTTP Error 406: Not Acceptable",
     "output_type": "error",
     "traceback": [
      "\u001b[1;31m---------------------------------------------------------------------------\u001b[0m",
      "\u001b[1;31mHTTPError\u001b[0m                                 Traceback (most recent call last)",
      "\u001b[1;32m<ipython-input-64-d6a6fd2719dd>\u001b[0m in \u001b[0;36m<module>\u001b[1;34m\u001b[0m\n\u001b[0;32m      1\u001b[0m \u001b[1;32mfrom\u001b[0m \u001b[0murllib\u001b[0m\u001b[1;33m.\u001b[0m\u001b[0mrequest\u001b[0m \u001b[1;32mimport\u001b[0m \u001b[0murlopen\u001b[0m\u001b[1;33m\u001b[0m\u001b[1;33m\u001b[0m\u001b[0m\n\u001b[1;32m----> 2\u001b[1;33m \u001b[0mbook\u001b[0m \u001b[1;33m=\u001b[0m \u001b[0murlopen\u001b[0m\u001b[1;33m(\u001b[0m\u001b[1;34m'http://www.gutenberg.org/cache/epub/10/pg10.txt'\u001b[0m\u001b[1;33m)\u001b[0m\u001b[1;33m\u001b[0m\u001b[1;33m\u001b[0m\u001b[0m\n\u001b[0m\u001b[0;32m      3\u001b[0m \u001b[1;31m#book = urlopen('http://composingprograms.com/shakespeare.txt')\u001b[0m\u001b[1;33m\u001b[0m\u001b[1;33m\u001b[0m\u001b[1;33m\u001b[0m\u001b[0m\n",
      "\u001b[1;32mC:\\ProgramData\\Anaconda3\\lib\\urllib\\request.py\u001b[0m in \u001b[0;36murlopen\u001b[1;34m(url, data, timeout, cafile, capath, cadefault, context)\u001b[0m\n\u001b[0;32m    220\u001b[0m     \u001b[1;32melse\u001b[0m\u001b[1;33m:\u001b[0m\u001b[1;33m\u001b[0m\u001b[1;33m\u001b[0m\u001b[0m\n\u001b[0;32m    221\u001b[0m         \u001b[0mopener\u001b[0m \u001b[1;33m=\u001b[0m \u001b[0m_opener\u001b[0m\u001b[1;33m\u001b[0m\u001b[1;33m\u001b[0m\u001b[0m\n\u001b[1;32m--> 222\u001b[1;33m     \u001b[1;32mreturn\u001b[0m \u001b[0mopener\u001b[0m\u001b[1;33m.\u001b[0m\u001b[0mopen\u001b[0m\u001b[1;33m(\u001b[0m\u001b[0murl\u001b[0m\u001b[1;33m,\u001b[0m \u001b[0mdata\u001b[0m\u001b[1;33m,\u001b[0m \u001b[0mtimeout\u001b[0m\u001b[1;33m)\u001b[0m\u001b[1;33m\u001b[0m\u001b[1;33m\u001b[0m\u001b[0m\n\u001b[0m\u001b[0;32m    223\u001b[0m \u001b[1;33m\u001b[0m\u001b[0m\n\u001b[0;32m    224\u001b[0m \u001b[1;32mdef\u001b[0m \u001b[0minstall_opener\u001b[0m\u001b[1;33m(\u001b[0m\u001b[0mopener\u001b[0m\u001b[1;33m)\u001b[0m\u001b[1;33m:\u001b[0m\u001b[1;33m\u001b[0m\u001b[1;33m\u001b[0m\u001b[0m\n",
      "\u001b[1;32mC:\\ProgramData\\Anaconda3\\lib\\urllib\\request.py\u001b[0m in \u001b[0;36mopen\u001b[1;34m(self, fullurl, data, timeout)\u001b[0m\n\u001b[0;32m    529\u001b[0m         \u001b[1;32mfor\u001b[0m \u001b[0mprocessor\u001b[0m \u001b[1;32min\u001b[0m \u001b[0mself\u001b[0m\u001b[1;33m.\u001b[0m\u001b[0mprocess_response\u001b[0m\u001b[1;33m.\u001b[0m\u001b[0mget\u001b[0m\u001b[1;33m(\u001b[0m\u001b[0mprotocol\u001b[0m\u001b[1;33m,\u001b[0m \u001b[1;33m[\u001b[0m\u001b[1;33m]\u001b[0m\u001b[1;33m)\u001b[0m\u001b[1;33m:\u001b[0m\u001b[1;33m\u001b[0m\u001b[1;33m\u001b[0m\u001b[0m\n\u001b[0;32m    530\u001b[0m             \u001b[0mmeth\u001b[0m \u001b[1;33m=\u001b[0m \u001b[0mgetattr\u001b[0m\u001b[1;33m(\u001b[0m\u001b[0mprocessor\u001b[0m\u001b[1;33m,\u001b[0m \u001b[0mmeth_name\u001b[0m\u001b[1;33m)\u001b[0m\u001b[1;33m\u001b[0m\u001b[1;33m\u001b[0m\u001b[0m\n\u001b[1;32m--> 531\u001b[1;33m             \u001b[0mresponse\u001b[0m \u001b[1;33m=\u001b[0m \u001b[0mmeth\u001b[0m\u001b[1;33m(\u001b[0m\u001b[0mreq\u001b[0m\u001b[1;33m,\u001b[0m \u001b[0mresponse\u001b[0m\u001b[1;33m)\u001b[0m\u001b[1;33m\u001b[0m\u001b[1;33m\u001b[0m\u001b[0m\n\u001b[0m\u001b[0;32m    532\u001b[0m \u001b[1;33m\u001b[0m\u001b[0m\n\u001b[0;32m    533\u001b[0m         \u001b[1;32mreturn\u001b[0m \u001b[0mresponse\u001b[0m\u001b[1;33m\u001b[0m\u001b[1;33m\u001b[0m\u001b[0m\n",
      "\u001b[1;32mC:\\ProgramData\\Anaconda3\\lib\\urllib\\request.py\u001b[0m in \u001b[0;36mhttp_response\u001b[1;34m(self, request, response)\u001b[0m\n\u001b[0;32m    638\u001b[0m         \u001b[1;31m# request was successfully received, understood, and accepted.\u001b[0m\u001b[1;33m\u001b[0m\u001b[1;33m\u001b[0m\u001b[1;33m\u001b[0m\u001b[0m\n\u001b[0;32m    639\u001b[0m         \u001b[1;32mif\u001b[0m \u001b[1;32mnot\u001b[0m \u001b[1;33m(\u001b[0m\u001b[1;36m200\u001b[0m \u001b[1;33m<=\u001b[0m \u001b[0mcode\u001b[0m \u001b[1;33m<\u001b[0m \u001b[1;36m300\u001b[0m\u001b[1;33m)\u001b[0m\u001b[1;33m:\u001b[0m\u001b[1;33m\u001b[0m\u001b[1;33m\u001b[0m\u001b[0m\n\u001b[1;32m--> 640\u001b[1;33m             response = self.parent.error(\n\u001b[0m\u001b[0;32m    641\u001b[0m                 'http', request, response, code, msg, hdrs)\n\u001b[0;32m    642\u001b[0m \u001b[1;33m\u001b[0m\u001b[0m\n",
      "\u001b[1;32mC:\\ProgramData\\Anaconda3\\lib\\urllib\\request.py\u001b[0m in \u001b[0;36merror\u001b[1;34m(self, proto, *args)\u001b[0m\n\u001b[0;32m    567\u001b[0m         \u001b[1;32mif\u001b[0m \u001b[0mhttp_err\u001b[0m\u001b[1;33m:\u001b[0m\u001b[1;33m\u001b[0m\u001b[1;33m\u001b[0m\u001b[0m\n\u001b[0;32m    568\u001b[0m             \u001b[0margs\u001b[0m \u001b[1;33m=\u001b[0m \u001b[1;33m(\u001b[0m\u001b[0mdict\u001b[0m\u001b[1;33m,\u001b[0m \u001b[1;34m'default'\u001b[0m\u001b[1;33m,\u001b[0m \u001b[1;34m'http_error_default'\u001b[0m\u001b[1;33m)\u001b[0m \u001b[1;33m+\u001b[0m \u001b[0morig_args\u001b[0m\u001b[1;33m\u001b[0m\u001b[1;33m\u001b[0m\u001b[0m\n\u001b[1;32m--> 569\u001b[1;33m             \u001b[1;32mreturn\u001b[0m \u001b[0mself\u001b[0m\u001b[1;33m.\u001b[0m\u001b[0m_call_chain\u001b[0m\u001b[1;33m(\u001b[0m\u001b[1;33m*\u001b[0m\u001b[0margs\u001b[0m\u001b[1;33m)\u001b[0m\u001b[1;33m\u001b[0m\u001b[1;33m\u001b[0m\u001b[0m\n\u001b[0m\u001b[0;32m    570\u001b[0m \u001b[1;33m\u001b[0m\u001b[0m\n\u001b[0;32m    571\u001b[0m \u001b[1;31m# XXX probably also want an abstract factory that knows when it makes\u001b[0m\u001b[1;33m\u001b[0m\u001b[1;33m\u001b[0m\u001b[1;33m\u001b[0m\u001b[0m\n",
      "\u001b[1;32mC:\\ProgramData\\Anaconda3\\lib\\urllib\\request.py\u001b[0m in \u001b[0;36m_call_chain\u001b[1;34m(self, chain, kind, meth_name, *args)\u001b[0m\n\u001b[0;32m    500\u001b[0m         \u001b[1;32mfor\u001b[0m \u001b[0mhandler\u001b[0m \u001b[1;32min\u001b[0m \u001b[0mhandlers\u001b[0m\u001b[1;33m:\u001b[0m\u001b[1;33m\u001b[0m\u001b[1;33m\u001b[0m\u001b[0m\n\u001b[0;32m    501\u001b[0m             \u001b[0mfunc\u001b[0m \u001b[1;33m=\u001b[0m \u001b[0mgetattr\u001b[0m\u001b[1;33m(\u001b[0m\u001b[0mhandler\u001b[0m\u001b[1;33m,\u001b[0m \u001b[0mmeth_name\u001b[0m\u001b[1;33m)\u001b[0m\u001b[1;33m\u001b[0m\u001b[1;33m\u001b[0m\u001b[0m\n\u001b[1;32m--> 502\u001b[1;33m             \u001b[0mresult\u001b[0m \u001b[1;33m=\u001b[0m \u001b[0mfunc\u001b[0m\u001b[1;33m(\u001b[0m\u001b[1;33m*\u001b[0m\u001b[0margs\u001b[0m\u001b[1;33m)\u001b[0m\u001b[1;33m\u001b[0m\u001b[1;33m\u001b[0m\u001b[0m\n\u001b[0m\u001b[0;32m    503\u001b[0m             \u001b[1;32mif\u001b[0m \u001b[0mresult\u001b[0m \u001b[1;32mis\u001b[0m \u001b[1;32mnot\u001b[0m \u001b[1;32mNone\u001b[0m\u001b[1;33m:\u001b[0m\u001b[1;33m\u001b[0m\u001b[1;33m\u001b[0m\u001b[0m\n\u001b[0;32m    504\u001b[0m                 \u001b[1;32mreturn\u001b[0m \u001b[0mresult\u001b[0m\u001b[1;33m\u001b[0m\u001b[1;33m\u001b[0m\u001b[0m\n",
      "\u001b[1;32mC:\\ProgramData\\Anaconda3\\lib\\urllib\\request.py\u001b[0m in \u001b[0;36mhttp_error_default\u001b[1;34m(self, req, fp, code, msg, hdrs)\u001b[0m\n\u001b[0;32m    647\u001b[0m \u001b[1;32mclass\u001b[0m \u001b[0mHTTPDefaultErrorHandler\u001b[0m\u001b[1;33m(\u001b[0m\u001b[0mBaseHandler\u001b[0m\u001b[1;33m)\u001b[0m\u001b[1;33m:\u001b[0m\u001b[1;33m\u001b[0m\u001b[1;33m\u001b[0m\u001b[0m\n\u001b[0;32m    648\u001b[0m     \u001b[1;32mdef\u001b[0m \u001b[0mhttp_error_default\u001b[0m\u001b[1;33m(\u001b[0m\u001b[0mself\u001b[0m\u001b[1;33m,\u001b[0m \u001b[0mreq\u001b[0m\u001b[1;33m,\u001b[0m \u001b[0mfp\u001b[0m\u001b[1;33m,\u001b[0m \u001b[0mcode\u001b[0m\u001b[1;33m,\u001b[0m \u001b[0mmsg\u001b[0m\u001b[1;33m,\u001b[0m \u001b[0mhdrs\u001b[0m\u001b[1;33m)\u001b[0m\u001b[1;33m:\u001b[0m\u001b[1;33m\u001b[0m\u001b[1;33m\u001b[0m\u001b[0m\n\u001b[1;32m--> 649\u001b[1;33m         \u001b[1;32mraise\u001b[0m \u001b[0mHTTPError\u001b[0m\u001b[1;33m(\u001b[0m\u001b[0mreq\u001b[0m\u001b[1;33m.\u001b[0m\u001b[0mfull_url\u001b[0m\u001b[1;33m,\u001b[0m \u001b[0mcode\u001b[0m\u001b[1;33m,\u001b[0m \u001b[0mmsg\u001b[0m\u001b[1;33m,\u001b[0m \u001b[0mhdrs\u001b[0m\u001b[1;33m,\u001b[0m \u001b[0mfp\u001b[0m\u001b[1;33m)\u001b[0m\u001b[1;33m\u001b[0m\u001b[1;33m\u001b[0m\u001b[0m\n\u001b[0m\u001b[0;32m    650\u001b[0m \u001b[1;33m\u001b[0m\u001b[0m\n\u001b[0;32m    651\u001b[0m \u001b[1;32mclass\u001b[0m \u001b[0mHTTPRedirectHandler\u001b[0m\u001b[1;33m(\u001b[0m\u001b[0mBaseHandler\u001b[0m\u001b[1;33m)\u001b[0m\u001b[1;33m:\u001b[0m\u001b[1;33m\u001b[0m\u001b[1;33m\u001b[0m\u001b[0m\n",
      "\u001b[1;31mHTTPError\u001b[0m: HTTP Error 406: Not Acceptable"
     ]
    }
   ],
   "source": [
    "from urllib.request import urlopen \n",
    "book = urlopen('http://www.gutenberg.org/files/30/30.txt')\n",
    "#book = urlopen('http://composingprograms.com/shakespeare.txt')"
   ]
  },
  {
   "cell_type": "markdown",
   "metadata": {},
   "source": [
    "#### Make a list words out of the book read from url."
   ]
  },
  {
   "cell_type": "code",
   "execution_count": 65,
   "metadata": {},
   "outputs": [
    {
     "ename": "NameError",
     "evalue": "name 'book' is not defined",
     "output_type": "error",
     "traceback": [
      "\u001b[1;31m---------------------------------------------------------------------------\u001b[0m",
      "\u001b[1;31mNameError\u001b[0m                                 Traceback (most recent call last)",
      "\u001b[1;32m<ipython-input-65-e0b5f49b858f>\u001b[0m in \u001b[0;36m<module>\u001b[1;34m\u001b[0m\n\u001b[1;32m----> 1\u001b[1;33m \u001b[0mwlist\u001b[0m \u001b[1;33m=\u001b[0m \u001b[0mbook\u001b[0m\u001b[1;33m.\u001b[0m\u001b[0mread\u001b[0m\u001b[1;33m(\u001b[0m\u001b[1;33m)\u001b[0m\u001b[1;33m.\u001b[0m\u001b[0mdecode\u001b[0m\u001b[1;33m(\u001b[0m\u001b[1;33m)\u001b[0m\u001b[1;33m.\u001b[0m\u001b[0msplit\u001b[0m\u001b[1;33m(\u001b[0m\u001b[1;33m)\u001b[0m\u001b[1;33m\u001b[0m\u001b[1;33m\u001b[0m\u001b[0m\n\u001b[0m",
      "\u001b[1;31mNameError\u001b[0m: name 'book' is not defined"
     ]
    }
   ],
   "source": [
    "wlist = book.read().decode().split()"
   ]
  },
  {
   "cell_type": "markdown",
   "metadata": {},
   "source": [
    "#### Example 1:  Get the number of words in `wlist`"
   ]
  },
  {
   "cell_type": "code",
   "execution_count": 66,
   "metadata": {},
   "outputs": [
    {
     "ename": "NameError",
     "evalue": "name 'wlist' is not defined",
     "output_type": "error",
     "traceback": [
      "\u001b[1;31m---------------------------------------------------------------------------\u001b[0m",
      "\u001b[1;31mNameError\u001b[0m                                 Traceback (most recent call last)",
      "\u001b[1;32m<ipython-input-66-c010df7c01c2>\u001b[0m in \u001b[0;36m<module>\u001b[1;34m\u001b[0m\n\u001b[1;32m----> 1\u001b[1;33m \u001b[0mlen\u001b[0m\u001b[1;33m(\u001b[0m\u001b[0mwlist\u001b[0m\u001b[1;33m)\u001b[0m\u001b[1;33m\u001b[0m\u001b[1;33m\u001b[0m\u001b[0m\n\u001b[0m",
      "\u001b[1;31mNameError\u001b[0m: name 'wlist' is not defined"
     ]
    }
   ],
   "source": [
    "len(wlist)"
   ]
  },
  {
   "cell_type": "markdown",
   "metadata": {},
   "source": [
    "#### Example 2: Print the first 10 words in `wlist`"
   ]
  },
  {
   "cell_type": "code",
   "execution_count": null,
   "metadata": {},
   "outputs": [],
   "source": []
  },
  {
   "cell_type": "markdown",
   "metadata": {},
   "source": [
    "#### Example3. Sort words in `wlist`. \n",
    "\n",
    "- Use the list's method called `sort()`\n",
    "- To find methods available, Use <tab> after the class/variable name<dot>"
   ]
  },
  {
   "cell_type": "code",
   "execution_count": null,
   "metadata": {},
   "outputs": [],
   "source": []
  },
  {
   "cell_type": "markdown",
   "metadata": {},
   "source": [
    "#### Example 4: Counter the number of '!' in `wlist`. \n",
    "- Use `count()` method."
   ]
  },
  {
   "cell_type": "code",
   "execution_count": null,
   "metadata": {},
   "outputs": [],
   "source": []
  },
  {
   "cell_type": "markdown",
   "metadata": {},
   "source": [
    "#### Example 5:  Count a specific word `truth` and `life` in the Bible."
   ]
  },
  {
   "cell_type": "code",
   "execution_count": null,
   "metadata": {},
   "outputs": [],
   "source": [
    "None\n",
    "help(list.count)"
   ]
  },
  {
   "cell_type": "markdown",
   "metadata": {},
   "source": [
    "#### Example 6. Remove duplicated words and check its length(or number of words). \n",
    "- Use `set()` function returns unique elements in a set type which is unordered or a kind of bag.\n",
    "- Therefore, the set data type does not support indexing."
   ]
  },
  {
   "cell_type": "code",
   "execution_count": null,
   "metadata": {},
   "outputs": [],
   "source": []
  },
  {
   "cell_type": "code",
   "execution_count": null,
   "metadata": {},
   "outputs": [],
   "source": [
    "     # set is not subscriptable; read the error message"
   ]
  },
  {
   "cell_type": "markdown",
   "metadata": {},
   "source": [
    "- Reading error messages is a good habit to have to improve your coding skills. \n",
    "- Make an every effort to understand the error message if possible. "
   ]
  },
  {
   "cell_type": "markdown",
   "metadata": {},
   "source": [
    "#### Example 7:  Count a specific word `truth` and `life` in the Bible again. Make sure that there is only one each."
   ]
  },
  {
   "cell_type": "code",
   "execution_count": null,
   "metadata": {},
   "outputs": [],
   "source": [
    "wlist.count('truth')"
   ]
  },
  {
   "cell_type": "markdown",
   "metadata": {},
   "source": [
    "## Functions\n",
    "\n",
    "Now let's take a look at defining and using functions in Python. We will start by defining a function to evaluate a polynomial."
   ]
  },
  {
   "cell_type": "markdown",
   "metadata": {},
   "source": [
    "#### Defining your own function\n",
    "\n",
    "- Define a function if you are using the same set of code more than once. \n",
    "- Be careful when using `:` and `<tab>` characters.\n",
    "\n",
    "\n",
    "#### Example 1. Do the following task three times: \n",
    "\n",
    "Say `Hello` to him/her whose name is passed as an argument.\n"
   ]
  },
  {
   "cell_type": "code",
   "execution_count": null,
   "metadata": {},
   "outputs": [],
   "source": [
    "def greet(name): \n",
    "    None"
   ]
  },
  {
   "cell_type": "code",
   "execution_count": null,
   "metadata": {},
   "outputs": [],
   "source": [
    "greet(None)\n",
    "greet(None)\n",
    "greet(None)"
   ]
  },
  {
   "cell_type": "markdown",
   "metadata": {},
   "source": [
    "- Do the same thing as shown above using a for loop.\n"
   ]
  },
  {
   "cell_type": "code",
   "execution_count": null,
   "metadata": {},
   "outputs": [],
   "source": []
  },
  {
   "cell_type": "markdown",
   "metadata": {},
   "source": [
    "#### Example 2. Draw a linear graph ` y = x ` or  `x = 1, 2, 3, 4 and y = 1, 2, 3, 4`"
   ]
  },
  {
   "cell_type": "code",
   "execution_count": null,
   "metadata": {},
   "outputs": [],
   "source": [
    "import matplotlib.pyplot as plt\n",
    "\n",
    "plt.plot([1, 2, 3, 4], [1, 2, 3, 4])\n",
    "plt.show()"
   ]
  },
  {
   "cell_type": "markdown",
   "metadata": {},
   "source": [
    "#### Example 3.  Plot a polynomial from `x = -10` and  `x = 10 `.\n",
    "- Its coefficients are `a = 1, b = 2, c = 3`\n",
    "- Define a polynomial, a `poly(x, a, b, c)` function, ` y = a * x^2 + b * x + c ` that returns` y`"
   ]
  },
  {
   "cell_type": "code",
   "execution_count": null,
   "metadata": {},
   "outputs": [],
   "source": [
    "def None\n",
    "    return None"
   ]
  },
  {
   "cell_type": "code",
   "execution_count": null,
   "metadata": {},
   "outputs": [],
   "source": [
    "import numpy as np\n",
    "import matplotlib.pyplot as plt\n",
    "\n",
    "x = None           # np.arange()  from -10 to 10\n",
    "y = None\n",
    "plt.plot(x, y)\n",
    "\n",
    "plt.show()"
   ]
  },
  {
   "cell_type": "markdown",
   "metadata": {},
   "source": [
    "#### Example 4. Draw `cos(x)` function from `x = 0` and `x = 2 * pi`.\n",
    "    \n",
    "- To check x values, evaluate x after generating numbers using np.arange()"
   ]
  },
  {
   "cell_type": "code",
   "execution_count": null,
   "metadata": {},
   "outputs": [],
   "source": [
    "x = None\n",
    "y = None\n",
    "plt.plot(x, y\n",
    "plt.show()"
   ]
  },
  {
   "cell_type": "markdown",
   "metadata": {},
   "source": [
    "## Image Display\n",
    "\n",
    "The pictures and more exotic objects can also be displayed, as long as their representation supports the IPython display protocol."
   ]
  },
  {
   "cell_type": "code",
   "execution_count": null,
   "metadata": {},
   "outputs": [],
   "source": [
    "import matplotlib.pyplot as plt\n",
    "from matplotlib.image import imread\n",
    "\n",
    "img = imread('https://github.com/idebtor/KMOOC-ML/blob/master/ipynb/images/lenna.png?raw=true')\n",
    "plt.imshow(img)\n",
    "plt.show()"
   ]
  },
  {
   "cell_type": "markdown",
   "metadata": {},
   "source": [
    "## Class and Object"
   ]
  },
  {
   "cell_type": "markdown",
   "metadata": {},
   "source": [
    "Now lets create a class. In Python, every class should derive from object. Our class will describe a person, with a name and an age. We will supply a constructor, and a method to get the full name.\n",
    "- How to create a class: Refer to [Wikibook](http://en.wikibooks.org/wiki/A_Beginner's_Python_Tutorial/Classes)"
   ]
  },
  {
   "cell_type": "markdown",
   "metadata": {},
   "source": [
    "#### Example 1. Create a Person class.\n",
    "\n",
    "- It has `first`, `last`, and `age` as instance variables.\n",
    "- It has a constructor that takes `first`, `last` and `age` as an initial parameters.\n",
    "- It has a method `full_name` that returns the `first` and `last` name with a space between them. "
   ]
  },
  {
   "cell_type": "code",
   "execution_count": null,
   "metadata": {},
   "outputs": [],
   "source": [
    "class Person(object):\n",
    "    def __init__(self, first, last, age):\n",
    "        self.first = first\n",
    "        self.last = last\n",
    "        self.age = age\n",
    "    \n",
    "    def full_name(self):\n",
    "        return self.first + ' ' + self.last"
   ]
  },
  {
   "cell_type": "markdown",
   "metadata": {},
   "source": [
    "#### Example 2. Instantiate an instance, `student`. \n",
    "Now we can create an instance of a Person, and work with the attributes of the class."
   ]
  },
  {
   "cell_type": "code",
   "execution_count": null,
   "metadata": {},
   "outputs": [],
   "source": [
    "student = None\n",
    "student.first"
   ]
  },
  {
   "cell_type": "markdown",
   "metadata": {},
   "source": [
    "#### Example 3. What is `student`'s last name?"
   ]
  },
  {
   "cell_type": "code",
   "execution_count": null,
   "metadata": {},
   "outputs": [],
   "source": []
  },
  {
   "cell_type": "markdown",
   "metadata": {},
   "source": [
    "#### Example 4. What is `student`'s full name?"
   ]
  },
  {
   "cell_type": "code",
   "execution_count": null,
   "metadata": {},
   "outputs": [],
   "source": []
  },
  {
   "cell_type": "markdown",
   "metadata": {},
   "source": [
    "#### Example 5. Change the last name to `Kim`. "
   ]
  },
  {
   "cell_type": "code",
   "execution_count": null,
   "metadata": {},
   "outputs": [],
   "source": []
  },
  {
   "cell_type": "markdown",
   "metadata": {},
   "source": [
    "In Python, we can add new class attributes on the fly, even if they have not been defined yet."
   ]
  },
  {
   "cell_type": "code",
   "execution_count": null,
   "metadata": {},
   "outputs": [],
   "source": [
    "student.smoke = False\n",
    "student.smoke"
   ]
  },
  {
   "cell_type": "markdown",
   "metadata": {},
   "source": [
    "## Writing a code cell into a file \n",
    "\n",
    "You may use __%%writefile__ cell magic command.  You have to place the command at the very first line of the code cell.\n",
    "```\n",
    "%%writefile mycode.py\n",
    "```\n",
    "\n",
    "\n",
    "## Loading external codes\n",
    "\n",
    "- Drag and drop a .py in the dashboard\n",
    "- Use __%load__  with any local or remote url: the Matplotlib Gallery http://matplotlib.org/gallery.html\n",
    "\n",
    "```\n",
    "%load mycode.py\n",
    "```\n",
    "\n",
    "In this notebook we've kept the output saved so you can see the result, but you should run the next cell yourself (with an active internet connection)."
   ]
  },
  {
   "cell_type": "markdown",
   "metadata": {},
   "source": [
    "That gives you a quick tour of the capabilities of IPython. \n",
    "\n",
    "We covered a lot of ground here, but this should give you an idea of the power that Python puts at your fingertips. In the later lectures, we will give you a more in-depth tour of most of these features."
   ]
  },
  {
   "cell_type": "markdown",
   "metadata": {},
   "source": [
    "# 5. A simple way to start Jupyter notebook in Windows\n",
    "To start an Jupyter Notebook, you create a console window first, then you type \"jupyter notebook\" and options in the command-line prompt. Then you still need to navigate to file folders where your Jupyter Notebook files(~.ipynb) are. It is cumbersome. \n",
    "\n",
    "I created a batch file (`_start_ipynb.bat`) as shown below and place it in the folder where I want to start Jupyter Notebook from. In my case, I placed it in folders where my notebooks exist such as `~/Dropbox` and `~/Dropbox/CrushPython`. Then starting jupyter notebook is __a double clicks away__. Enjoy it. \n",
    "\n",
    "The batch filename I use is `_start_ipynb.bat` since the file is usually displayed at the top in the folder view because of the prefix `_`,\n",
    "```\n",
    "rem  start jupyter notebook here .bat file \n",
    "rem  If ~.py file to be written as well, then use jupyter notebook --script \n",
    "pwd \n",
    "jupyter notebook \n",
    "pause \n",
    "```\n"
   ]
  },
  {
   "cell_type": "markdown",
   "metadata": {},
   "source": [
    "# 6. Shell\n",
    "\n",
    "In computing, a shell is a user interface for access to an __operating system's services__. In general, operating system shells use either a command-line interface (CLI) or a graphical user interface (GUI), depending on a computer's role and particular operation. It is named a __shell__ because it is the outermost layer around the operating system.\n",
    "\n",
    "One problem we are facing when using Shell is that every OS has its own shell. They are all different, but there are aliases available we can use the same shell command-like across the OS's at convenience."
   ]
  },
  {
   "cell_type": "markdown",
   "metadata": {},
   "source": [
    "## Some shell commands are often used.\n",
    "- `cd mydir` changes directory to `mydir`. \n",
    "- `cd ..` moves to the parent directory of current directory, or the directory one level up from the current directory. “..” represents parent directory.\n",
    "- `cd ~` moves to directory to the home directory. \n",
    "- `/` on its own is the root directory of the whole file system.\n",
    "- `..` means ‘the directory above the current one’; . on its own means ‘the current directory’.\n",
    "- A relative path specifies a location starting from the current location.\n",
    "- An absolute path specifies a location from the root of the file system.\n",
    "- Directory names in a path are separated with `/` on Unix/Linux/macOS, but `\\` on Windows.\n",
    "\n",
    "- `cp old new` copies a file.\n",
    "- `mkdir path` creates a new directory.\n",
    "- `mv old new` moves (renames) a file or directory.\n",
    "- `rm path` removes (deletes) a file.\n",
    "- `*` matches zero or more characters in a filename, so `*.txt` matches all files ending in `.txt`.\n",
    "- `?` matches any single character in a filename, so `?.txt` matches `a.txt` but not `any.txt`.\n",
    "- The shell does not have a trash bin: once something is deleted, it’s really gone."
   ]
  },
  {
   "cell_type": "markdown",
   "metadata": {},
   "source": [
    "###  Exercise: Creating and deleting a folder and file.\n",
    "1. Check the current directory and know where you are now.\n",
    "1. Create a `myfolder` directory. \n",
    "1. Change directory to `myfolder`.\n",
    "1. Check the current working directory\n",
    "1. Create a file called `hello.txt` which contains \"Hello World\".\n",
    "1. Check that you have the file just created.\n",
    "1. Check the file contents just created.\n",
    "1. Delete the file and directory you just created.\n",
    "1. Remove the directory `myfolder`. \n",
    "    - `cd ..` first since you cannot remove the folder, then remove the folder."
   ]
  },
  {
   "cell_type": "markdown",
   "metadata": {},
   "source": [
    "#### a solution\n",
    "\n",
    "\n",
    "\n",
    "------\n"
   ]
  },
  {
   "cell_type": "markdown",
   "metadata": {},
   "source": [
    "## 출석 체크 \n",
    "\n",
    "위의 \"Exercise\"에서 입력한 쉘 명령어들을 차례대로 Piazza 폴더 ch1에 기록하십시오. 제목은 \"학번이름 출체크\"으로 하십시오.\n",
    "\n",
    "<span style=\"color:red\"> __주의 사항__</span> 이 문제는 간단한 문제이므로, 파일로 올리지 마십시오. 또한 숙제를 피아짜에 upload할 때, \"Entire Class\"로 올리면 감점되오니, \"Individuals/Instructors\"를 택한 후, instructors 입력하여 upload 해야 합니다.감점이 우려됩니다</span>"
   ]
  },
  {
   "cell_type": "markdown",
   "metadata": {},
   "source": [
    "# Closing and Tips on Jupyter Notebook\n",
    "\n",
    "That gives you a quick tour of the capabilities of Jupyter notebook or IPython. \n",
    "\n",
    "We covered a lot of ground here, but this should give you an idea of the power that Python puts at your fingertips. In the later lectures, we will give you a more in-depth tour of most of these features.\n",
    "\n",
    "When you execute code somewhere in the middle of a notebook, the code fragment may be dependent on imports, intermediate results in local variables and other such initializations in preceding cells.  So it is better to execute code cells sequentially, starting at the top, when new to IPython Notebook, to avoid being confused by such extraneous errors.__  \n",
    "\n",
    "Even so if you want to dive in and not have to execute each preceding code cell then you'll need to execute the menu item 'Cell->Run All'.  This executes each code cell for you sequentially once, so from that point on all dependencies on prior code cells are satisfied."
   ]
  },
  {
   "cell_type": "markdown",
   "metadata": {},
   "source": [
    "-------\n",
    "__Be joyful always!__ 1 Thes.5:16"
   ]
  }
 ],
 "metadata": {
  "kernelspec": {
   "display_name": "Python 3",
   "language": "python",
   "name": "python3"
  },
  "language_info": {
   "codemirror_mode": {
    "name": "ipython",
    "version": 3
   },
   "file_extension": ".py",
   "mimetype": "text/x-python",
   "name": "python",
   "nbconvert_exporter": "python",
   "pygments_lexer": "ipython3",
   "version": "3.8.5"
  }
 },
 "nbformat": 4,
 "nbformat_minor": 1
}
